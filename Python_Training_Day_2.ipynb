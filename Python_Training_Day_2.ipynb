{
  "nbformat": 4,
  "nbformat_minor": 0,
  "metadata": {
    "colab": {
      "name": "Python Training_Day 2.ipynb",
      "provenance": [],
      "collapsed_sections": [
        "Odh5sV7wQih2",
        "02AM3lpRrG1M",
        "Nxip8T2SrNLR"
      ],
      "toc_visible": true
    },
    "kernelspec": {
      "name": "python3",
      "display_name": "Python 3"
    },
    "language_info": {
      "name": "python"
    }
  },
  "cells": [
    {
      "cell_type": "markdown",
      "metadata": {
        "id": "Odh5sV7wQih2"
      },
      "source": [
        "##Strings"
      ]
    },
    {
      "cell_type": "markdown",
      "metadata": {
        "id": "DVCn35C4PrZE"
      },
      "source": [
        "###Intro"
      ]
    },
    {
      "cell_type": "markdown",
      "metadata": {
        "id": "9bkVSplMQrZF"
      },
      "source": [
        "Strings are like collection of characters"
      ]
    },
    {
      "cell_type": "code",
      "metadata": {
        "colab": {
          "base_uri": "https://localhost:8080/"
        },
        "id": "zfLEdtNyQnLM",
        "outputId": "bdefdc5b-0d24-48c4-b8e3-f5f54647e071"
      },
      "source": [
        "#To write the strings we can use either double quotation or single quotation\n",
        "name1 = \"Wasana\"\n",
        "name2 = 'Wasana'\n",
        "\n",
        "print(name1)\n",
        "print(name2)"
      ],
      "execution_count": null,
      "outputs": [
        {
          "output_type": "stream",
          "name": "stdout",
          "text": [
            "Wasana\n",
            "Wasana\n"
          ]
        }
      ]
    },
    {
      "cell_type": "code",
      "metadata": {
        "colab": {
          "base_uri": "https://localhost:8080/"
        },
        "id": "Ae0QaVpWSoqn",
        "outputId": "c144bee0-f2fd-44c0-84c0-744518c26fe2"
      },
      "source": [
        "#Now I want to cross check whether this variable is a string or not\n",
        "#How can I do that?\n",
        "#What is the function that I can use to check the data type of the variable?\n",
        "#So can u guys put ur answers in the chat\n",
        "type(name1)"
      ],
      "execution_count": null,
      "outputs": [
        {
          "output_type": "execute_result",
          "data": {
            "text/plain": [
              "str"
            ]
          },
          "metadata": {},
          "execution_count": 2
        }
      ]
    },
    {
      "cell_type": "code",
      "metadata": {
        "colab": {
          "base_uri": "https://localhost:8080/"
        },
        "id": "k7M0zJ7nSu0g",
        "outputId": "3fa42564-1686-4d49-d8be-9a5f1b79b42d"
      },
      "source": [
        "#Now I want to check the length of the name\n",
        "len(name1)"
      ],
      "execution_count": null,
      "outputs": [
        {
          "output_type": "execute_result",
          "data": {
            "text/plain": [
              "6"
            ]
          },
          "metadata": {},
          "execution_count": 3
        }
      ]
    },
    {
      "cell_type": "code",
      "metadata": {
        "colab": {
          "base_uri": "https://localhost:8080/"
        },
        "id": "TC8EQpm4Sy4c",
        "outputId": "0b0d913f-e9d1-48ee-ea29-77aa85706da5"
      },
      "source": [
        "#string concatenation\n",
        "#Let's see how we can concatenate two names together\n",
        "#U can use + operator to combine two strings\n",
        "firstname = 'Wasana'\n",
        "lastname = 'Perera'\n",
        "name = firstname + ' ' + lastname\n",
        "\n",
        "print(name)"
      ],
      "execution_count": null,
      "outputs": [
        {
          "output_type": "stream",
          "name": "stdout",
          "text": [
            "Wasana Perera\n"
          ]
        }
      ]
    },
    {
      "cell_type": "code",
      "metadata": {
        "colab": {
          "base_uri": "https://localhost:8080/"
        },
        "id": "mvxyRSMInnGz",
        "outputId": "1526193d-34bc-48c8-c8b8-0db2ae1b18c8"
      },
      "source": [
        "#white space also count as the length\n",
        "#If u count Wasana there is only 6 letters in it \n",
        "#And also in Perera there is only 6 letters\n",
        "#But here length is given as 13\n",
        "#Bcz the white spaces also count to the length\n",
        "#That's why we get 13 as the length\n",
        "#The length of the string is the number of characters it contains, including spaces, punctuations etc\n",
        "len(name)"
      ],
      "execution_count": null,
      "outputs": [
        {
          "output_type": "execute_result",
          "data": {
            "text/plain": [
              "13"
            ]
          },
          "metadata": {},
          "execution_count": 5
        }
      ]
    },
    {
      "cell_type": "markdown",
      "metadata": {
        "id": "aaHic18pz1jj"
      },
      "source": [
        "###Slicing"
      ]
    },
    {
      "cell_type": "code",
      "metadata": {
        "colab": {
          "base_uri": "https://localhost:8080/"
        },
        "id": "qCMczVZgnrhk",
        "outputId": "c60d769b-fc1f-4a1f-93a8-023074cc9734"
      },
      "source": [
        "#slicing\n",
        "#let's see how to extract elements from strings\n",
        "#We can use square barckets to access the elements of the string\n",
        "#What we want to know is the position or the index of the element\n",
        "\n",
        "print(name[0])\n",
        "print(name[3])\n",
        "\n",
        "\n",
        "#If u want to get the range of characters what u can do?\n",
        "#In that case u need to mention both start index and end index, separated by colon\n",
        "print(name[2:6])\n",
        "#But remember that not including the character in index 6\n",
        "print(name[0:6])\n",
        "\n",
        "#By leaving out the start index then the range will start at the first character\n",
        "print(name[:6])\n",
        "#By leaving out the end index then the range will go to the end\n",
        "print(name[7:])\n",
        "\n",
        "#U can use negative indexes to start the slice from the end of the string\n",
        "#print(name[12])\n",
        "print(name[-1])\n",
        "print(name[-2])\n",
        "\n",
        "#print(name[len(name)-1])"
      ],
      "execution_count": null,
      "outputs": [
        {
          "output_type": "stream",
          "name": "stdout",
          "text": [
            "W\n",
            "a\n",
            "sana\n",
            "Wasana\n",
            "Wasana\n",
            "Perera\n",
            "a\n",
            "r\n"
          ]
        }
      ]
    },
    {
      "cell_type": "code",
      "metadata": {
        "colab": {
          "base_uri": "https://localhost:8080/"
        },
        "id": "rvwDeS5kpAKd",
        "outputId": "4851d07a-20b8-4119-98e7-1d352e891ece"
      },
      "source": [
        "email = 'Wasana.Perera@lseg.com'\n",
        "\n",
        "# Slicing and separating the username and domain\n",
        "username = email[:13]\n",
        "domain = email[14:]\n",
        "print(username)\n",
        "print(domain)"
      ],
      "execution_count": null,
      "outputs": [
        {
          "output_type": "stream",
          "name": "stdout",
          "text": [
            "Wasana.Perera\n",
            "lseg.com\n"
          ]
        }
      ]
    },
    {
      "cell_type": "code",
      "metadata": {
        "colab": {
          "base_uri": "https://localhost:8080/"
        },
        "id": "lqzAf0YnpHFp",
        "outputId": "543fe414-dcda-4bba-9d88-35c007845e00"
      },
      "source": [
        "phonenumber = '+94777334416'\n",
        "country_code = phonenumber[1:3]\n",
        "number = phonenumber[3:]\n",
        "print(country_code)\n",
        "print(number)"
      ],
      "execution_count": null,
      "outputs": [
        {
          "output_type": "stream",
          "name": "stdout",
          "text": [
            "94\n",
            "777334416\n"
          ]
        }
      ]
    },
    {
      "cell_type": "code",
      "metadata": {
        "colab": {
          "base_uri": "https://localhost:8080/"
        },
        "id": "-ViexqSKpMVY",
        "outputId": "4667d8d4-9bbe-42b0-9316-2235db06be06"
      },
      "source": [
        "#REVERSE\n",
        "reverse = name[::-1]\n",
        "print(reverse)"
      ],
      "execution_count": null,
      "outputs": [
        {
          "output_type": "stream",
          "name": "stdout",
          "text": [
            "arereP anasaW\n"
          ]
        }
      ]
    },
    {
      "cell_type": "markdown",
      "metadata": {
        "id": "5j6LYcLiz580"
      },
      "source": [
        "###Modify Strings"
      ]
    },
    {
      "cell_type": "code",
      "metadata": {
        "colab": {
          "base_uri": "https://localhost:8080/"
        },
        "id": "y-zZtxcxpPzu",
        "outputId": "ece6bd23-4304-4ded-bd08-db33b9678750"
      },
      "source": [
        "#Python has a set of built-in methods that u can use for strings\n",
        "#A method is a function that belongs to an object\n",
        "dir(str)"
      ],
      "execution_count": null,
      "outputs": [
        {
          "output_type": "execute_result",
          "data": {
            "text/plain": [
              "['__add__',\n",
              " '__class__',\n",
              " '__contains__',\n",
              " '__delattr__',\n",
              " '__dir__',\n",
              " '__doc__',\n",
              " '__eq__',\n",
              " '__format__',\n",
              " '__ge__',\n",
              " '__getattribute__',\n",
              " '__getitem__',\n",
              " '__getnewargs__',\n",
              " '__gt__',\n",
              " '__hash__',\n",
              " '__init__',\n",
              " '__init_subclass__',\n",
              " '__iter__',\n",
              " '__le__',\n",
              " '__len__',\n",
              " '__lt__',\n",
              " '__mod__',\n",
              " '__mul__',\n",
              " '__ne__',\n",
              " '__new__',\n",
              " '__reduce__',\n",
              " '__reduce_ex__',\n",
              " '__repr__',\n",
              " '__rmod__',\n",
              " '__rmul__',\n",
              " '__setattr__',\n",
              " '__sizeof__',\n",
              " '__str__',\n",
              " '__subclasshook__',\n",
              " 'capitalize',\n",
              " 'casefold',\n",
              " 'center',\n",
              " 'count',\n",
              " 'encode',\n",
              " 'endswith',\n",
              " 'expandtabs',\n",
              " 'find',\n",
              " 'format',\n",
              " 'format_map',\n",
              " 'index',\n",
              " 'isalnum',\n",
              " 'isalpha',\n",
              " 'isascii',\n",
              " 'isdecimal',\n",
              " 'isdigit',\n",
              " 'isidentifier',\n",
              " 'islower',\n",
              " 'isnumeric',\n",
              " 'isprintable',\n",
              " 'isspace',\n",
              " 'istitle',\n",
              " 'isupper',\n",
              " 'join',\n",
              " 'ljust',\n",
              " 'lower',\n",
              " 'lstrip',\n",
              " 'maketrans',\n",
              " 'partition',\n",
              " 'replace',\n",
              " 'rfind',\n",
              " 'rindex',\n",
              " 'rjust',\n",
              " 'rpartition',\n",
              " 'rsplit',\n",
              " 'rstrip',\n",
              " 'split',\n",
              " 'splitlines',\n",
              " 'startswith',\n",
              " 'strip',\n",
              " 'swapcase',\n",
              " 'title',\n",
              " 'translate',\n",
              " 'upper',\n",
              " 'zfill']"
            ]
          },
          "metadata": {},
          "execution_count": 17
        }
      ]
    },
    {
      "cell_type": "code",
      "metadata": {
        "colab": {
          "base_uri": "https://localhost:8080/"
        },
        "id": "B7yjWc9hpSos",
        "outputId": "58862eb1-592d-4203-939e-ff2d1f298a7e"
      },
      "source": [
        "help(str.upper)"
      ],
      "execution_count": null,
      "outputs": [
        {
          "output_type": "stream",
          "name": "stdout",
          "text": [
            "Help on method_descriptor:\n",
            "\n",
            "upper(self, /)\n",
            "    Return a copy of the string converted to uppercase.\n",
            "\n"
          ]
        }
      ]
    },
    {
      "cell_type": "code",
      "metadata": {
        "colab": {
          "base_uri": "https://localhost:8080/"
        },
        "id": "xcj91qPupZbr",
        "outputId": "0f66d7c4-9c60-451a-a0bd-6d47f5d8f5b3"
      },
      "source": [
        "#Let's try to convert all the letters in the name to uppercase\n",
        "#upper() method returns the string in uppercase\n",
        "uppercase_name = name.upper()\n",
        "print(uppercase_name)\n",
        "\n",
        "#Let's try to convert all the letters in the name to lowercase\n",
        "#lower() method returns the string in uppercase\n",
        "print(uppercase_name.lower())\n",
        "\n",
        "#If you want to convert first letter of each and every letter to uppercase\n",
        "print(name.title())"
      ],
      "execution_count": null,
      "outputs": [
        {
          "output_type": "stream",
          "name": "stdout",
          "text": [
            "WASANA PERERA\n",
            "wasana perera\n",
            "Wasana Perera\n"
          ]
        }
      ]
    },
    {
      "cell_type": "code",
      "metadata": {
        "colab": {
          "base_uri": "https://localhost:8080/"
        },
        "id": "Qq1QbsE9W3Fz",
        "outputId": "27478a45-c310-4a74-f7b0-318bfb59601f"
      },
      "source": [
        "help(str.title)"
      ],
      "execution_count": null,
      "outputs": [
        {
          "output_type": "stream",
          "name": "stdout",
          "text": [
            "Help on method_descriptor:\n",
            "\n",
            "title(self, /)\n",
            "    Return a version of the string where each word is titlecased.\n",
            "    \n",
            "    More specifically, words start with uppercased characters and all remaining\n",
            "    cased characters have lower case.\n",
            "\n"
          ]
        }
      ]
    },
    {
      "cell_type": "code",
      "metadata": {
        "colab": {
          "base_uri": "https://localhost:8080/"
        },
        "id": "nPxabWf3pabz",
        "outputId": "7a7c6d20-6720-4bd0-8b8a-b61323118eb0"
      },
      "source": [
        "#strip \n",
        "#Remove whitespace\n",
        "#removes any spaces or specified characters at the start and end of a string\n",
        "#Whitespace is the space before or after the actual text or some specified characters\n",
        "#So sometimes u want to remove those whitespaces\n",
        "name = ' wasana perera .'\n",
        "len(name)"
      ],
      "execution_count": null,
      "outputs": [
        {
          "output_type": "execute_result",
          "data": {
            "text/plain": [
              "16"
            ]
          },
          "metadata": {},
          "execution_count": 5
        }
      ]
    },
    {
      "cell_type": "code",
      "metadata": {
        "colab": {
          "base_uri": "https://localhost:8080/"
        },
        "id": "FxqpHPXb-8eZ",
        "outputId": "bf96fb7e-0e5d-45c0-826e-7cd2fb8f8acc"
      },
      "source": [
        "#rstrip\n",
        "#remove nay whitespaces at the end of the string\n",
        "r = name.rstrip(\"\")\n",
        "print(r)\n",
        "len(r)"
      ],
      "execution_count": null,
      "outputs": [
        {
          "output_type": "stream",
          "name": "stdout",
          "text": [
            " wasana perera .\n"
          ]
        },
        {
          "output_type": "execute_result",
          "data": {
            "text/plain": [
              "16"
            ]
          },
          "metadata": {},
          "execution_count": 7
        }
      ]
    },
    {
      "cell_type": "code",
      "metadata": {
        "colab": {
          "base_uri": "https://localhost:8080/"
        },
        "id": "7LbENqM4CCWI",
        "outputId": "8ae39f36-fab8-481f-d966-c985c16f9469"
      },
      "source": [
        "name = '.wasana perera'\n",
        "print(name.lstrip(\".\"))\n",
        "len((name.lstrip(\" )))"
      ],
      "execution_count": null,
      "outputs": [
        {
          "output_type": "stream",
          "name": "stdout",
          "text": [
            "wasana perera\n"
          ]
        },
        {
          "output_type": "execute_result",
          "data": {
            "text/plain": [
              "13"
            ]
          },
          "metadata": {},
          "execution_count": 13
        }
      ]
    },
    {
      "cell_type": "code",
      "metadata": {
        "colab": {
          "base_uri": "https://localhost:8080/"
        },
        "id": "EjofuZVgpc4s",
        "outputId": "d0b2161a-490c-485b-ecf5-f3f6aaffa19a"
      },
      "source": [
        "#rstrip\n",
        "#remove nay whitespaces at the end of the string\n",
        "r = name.rstrip(\" .\")\n",
        "print(r)\n",
        "len(r)\n"
      ],
      "execution_count": null,
      "outputs": [
        {
          "output_type": "stream",
          "name": "stdout",
          "text": [
            " wasana perera\n"
          ]
        },
        {
          "output_type": "execute_result",
          "data": {
            "text/plain": [
              "14"
            ]
          },
          "metadata": {},
          "execution_count": 29
        }
      ]
    },
    {
      "cell_type": "code",
      "metadata": {
        "colab": {
          "base_uri": "https://localhost:8080/"
        },
        "id": "kWa01snS6E3v",
        "outputId": "064a8271-9c30-4afe-da94-506c82092232"
      },
      "source": [
        "#lstrip\n",
        "#remove any spaces to the left to the string\n",
        "#space is the default leading character\n",
        "#A set of leading characters to remove as leading characters\n",
        "l =  r.lstrip()\n",
        "print(l)\n",
        "len(l)"
      ],
      "execution_count": null,
      "outputs": [
        {
          "output_type": "stream",
          "name": "stdout",
          "text": [
            "wasana perera\n"
          ]
        },
        {
          "output_type": "execute_result",
          "data": {
            "text/plain": [
              "13"
            ]
          },
          "metadata": {},
          "execution_count": 31
        }
      ]
    },
    {
      "cell_type": "code",
      "metadata": {
        "colab": {
          "base_uri": "https://localhost:8080/"
        },
        "id": "KPbyRVVYpf8M",
        "outputId": "fc7f2f29-1c7d-4623-ad5b-8efeb626479a"
      },
      "source": [
        "#Strip\n",
        "#removes spaces at the begining and at the end of a string\n",
        "name = ' =wasana perera. '\n",
        "name = name.strip(\"=. \")\n",
        "print(name)"
      ],
      "execution_count": null,
      "outputs": [
        {
          "output_type": "stream",
          "name": "stdout",
          "text": [
            "wasana perera\n"
          ]
        }
      ]
    },
    {
      "cell_type": "code",
      "metadata": {
        "colab": {
          "base_uri": "https://localhost:8080/"
        },
        "id": "K5SlrXt-pinE",
        "outputId": "efa4d06d-6753-440d-9d0d-a3970f0ac3d1"
      },
      "source": [
        "#check all the characters of the strings are numeric or not\n",
        "name.isnumeric()"
      ],
      "execution_count": null,
      "outputs": [
        {
          "output_type": "execute_result",
          "data": {
            "text/plain": [
              "False"
            ]
          },
          "metadata": {},
          "execution_count": 40
        }
      ]
    },
    {
      "cell_type": "code",
      "metadata": {
        "colab": {
          "base_uri": "https://localhost:8080/"
        },
        "id": "UzNRE6nyple6",
        "outputId": "e7fb4144-cb71-4138-d083-2cbad45de002"
      },
      "source": [
        "'456'.isnumeric()"
      ],
      "execution_count": null,
      "outputs": [
        {
          "output_type": "execute_result",
          "data": {
            "text/plain": [
              "True"
            ]
          },
          "metadata": {},
          "execution_count": 41
        }
      ]
    },
    {
      "cell_type": "code",
      "metadata": {
        "id": "NTxu_pLMpoRA"
      },
      "source": [
        "#startswith\n",
        "#This method returns True if the string starts with specified value, other wise False\n",
        "s = 'I am going home'\n",
        "t = 'We all are working for BSL'"
      ],
      "execution_count": null,
      "outputs": []
    },
    {
      "cell_type": "code",
      "metadata": {
        "colab": {
          "base_uri": "https://localhost:8080/"
        },
        "id": "6F0xvIs8psJP",
        "outputId": "ef11f0ab-e28a-4ed1-bad8-b947a64c8db4"
      },
      "source": [
        "print(s.startswith('I am'))\n",
        "print(t.startswith('I am'))"
      ],
      "execution_count": null,
      "outputs": [
        {
          "output_type": "stream",
          "name": "stdout",
          "text": [
            "True\n",
            "False\n"
          ]
        }
      ]
    },
    {
      "cell_type": "code",
      "metadata": {
        "colab": {
          "base_uri": "https://localhost:8080/"
        },
        "id": "WQjkeqRupuih",
        "outputId": "a287e3db-d551-4230-820a-e57ce9a5efb6"
      },
      "source": [
        "#endswith\n",
        "#This method returns True if the string ends with specified value, other wise False\n",
        "print(s.endswith('BSL'))\n",
        "print(t.endswith('BSL'))"
      ],
      "execution_count": null,
      "outputs": [
        {
          "output_type": "stream",
          "name": "stdout",
          "text": [
            "False\n",
            "True\n"
          ]
        }
      ]
    },
    {
      "cell_type": "code",
      "metadata": {
        "colab": {
          "base_uri": "https://localhost:8080/"
        },
        "id": "lqvUTXEPp1zb",
        "outputId": "bad8f36e-5250-4997-f46f-d122ec8b2ea7"
      },
      "source": [
        "#find\n",
        "#Find the the first occurance of the specified value\n",
        "email = 'wasana.perera@lseg.com'\n",
        "\n",
        "email.find('@')\n",
        "print(email.find('@'))\n",
        "domain = email[ email.find('@') + 1  : ]\n",
        "username = email[ : email.find('@') ]        \n",
        "print(domain)\n",
        "print(username)"
      ],
      "execution_count": null,
      "outputs": [
        {
          "output_type": "stream",
          "name": "stdout",
          "text": [
            "13\n",
            "lseg.com\n",
            "wasana.perera\n"
          ]
        }
      ]
    },
    {
      "cell_type": "code",
      "metadata": {
        "colab": {
          "base_uri": "https://localhost:8080/"
        },
        "id": "eBmZ8SNyp4mR",
        "outputId": "0513a609-43c9-4f37-e00e-0e445ef1f8c5"
      },
      "source": [
        "#split\n",
        "#Splits the strings into substrings \n",
        "#After u split the strings to substrings it returns a list of substrings\n",
        "sentance = 'My Name is Wasana Perera, I live in Wadduwa. My phone number is 0777334416. My email address is wasana.perera@lseg.com.'\n",
        "words = sentance.split()\n",
        "print(words)\n",
        "#If you are not mentioning the separtor within the brackets it autimatically takes the space as the separator"
      ],
      "execution_count": null,
      "outputs": [
        {
          "output_type": "stream",
          "name": "stdout",
          "text": [
            "['My', 'Name', 'is', 'Wasana', 'Perera,', 'I', 'live', 'in', 'Wadduwa.', 'My', 'phone', 'number', 'is', '0777334416.', 'My', 'email', 'address', 'is', 'wasana.perera@lseg.com.']\n"
          ]
        }
      ]
    },
    {
      "cell_type": "code",
      "metadata": {
        "colab": {
          "base_uri": "https://localhost:8080/"
        },
        "id": "dk0Mt3r9p7Pi",
        "outputId": "bca218df-6f56-46c0-d1a8-1f63cf8993ba"
      },
      "source": [
        "#Also u can give some separater to splits the substrings\n",
        "#That means if you want to split this from fullstop.\n",
        "#Then u can specify the separator here\n",
        "subsentances = sentance.split('.')\n",
        "print(subsentances)"
      ],
      "execution_count": null,
      "outputs": [
        {
          "output_type": "stream",
          "name": "stdout",
          "text": [
            "['My Name is Wasana Perera, I live in Wadduwa', ' My phone number is 0777334416', ' My email address is wasana', 'perera@lseg', 'com', '']\n"
          ]
        }
      ]
    },
    {
      "cell_type": "code",
      "metadata": {
        "colab": {
          "base_uri": "https://localhost:8080/"
        },
        "id": "n_5ntq9KqAmU",
        "outputId": "e0a6a637-a1bb-4693-a627-df337832c239"
      },
      "source": [
        "#join\n",
        "words = [ 'I', 'am', 'working', 'for', 'BSL']\n",
        "print(words)"
      ],
      "execution_count": null,
      "outputs": [
        {
          "output_type": "stream",
          "name": "stdout",
          "text": [
            "['I', 'am', 'working', 'for', 'BSL']\n"
          ]
        }
      ]
    },
    {
      "cell_type": "code",
      "metadata": {
        "colab": {
          "base_uri": "https://localhost:8080/"
        },
        "id": "9t8eEjCsqC37",
        "outputId": "64a7b695-dfbf-449a-b5f6-3396a7dab07f"
      },
      "source": [
        "#Join all the items in the list #space as the separater\n",
        "#Need to include the separater \n",
        "a  = ' '.join(words)\n",
        "print(a)"
      ],
      "execution_count": null,
      "outputs": [
        {
          "output_type": "stream",
          "name": "stdout",
          "text": [
            "I am working for BSL\n"
          ]
        }
      ]
    },
    {
      "cell_type": "code",
      "metadata": {
        "id": "FbuN68_n9Yat"
      },
      "source": [
        "#string formatting\n",
        "#sometimes u need to insert custom strings or variables in predefined text\n",
        "#in that case to display ur strings as u expected u can format the result uisng format() method\n",
        "#so the format() method returns the formatted string\n",
        "#let's see how to format ur strings"
      ],
      "execution_count": null,
      "outputs": []
    },
    {
      "cell_type": "code",
      "metadata": {
        "id": "wgwyO396-eTk"
      },
      "source": [
        "#you have previously defined two variables\n",
        "x = 2\n",
        "x = 3\n",
        "\n",
        "#As the result ypu need to display that\n",
        "#Sum of x and y : x+y\n",
        "#Sum of 2 and 3: 5"
      ],
      "execution_count": null,
      "outputs": []
    },
    {
      "cell_type": "code",
      "metadata": {
        "colab": {
          "base_uri": "https://localhost:8080/"
        },
        "id": "itFsbfFz-4IU",
        "outputId": "afb5c1fe-88a5-428a-ff19-fc70c504b89d"
      },
      "source": [
        "print('Sum of', x, 'and', y, ':', x+y)"
      ],
      "execution_count": null,
      "outputs": [
        {
          "output_type": "stream",
          "name": "stdout",
          "text": [
            "Sum of 2 and 3 : 5\n"
          ]
        }
      ]
    },
    {
      "cell_type": "code",
      "metadata": {
        "colab": {
          "base_uri": "https://localhost:8080/"
        },
        "id": "0xNe8K2uqH6S",
        "outputId": "c2f467e7-ae32-452e-e945-7a47f79a549e"
      },
      "source": [
        "#without doing like that u can format ur strings using placeholders\n",
        "#you need to give the assigning varibale for each placeholders one by one\n",
        "print( 'Sum of {} and {} : {}'.format(x, y, x+y) )"
      ],
      "execution_count": null,
      "outputs": [
        {
          "output_type": "stream",
          "name": "stdout",
          "text": [
            "Sum of 2 and 3 : 5\n"
          ]
        }
      ]
    },
    {
      "cell_type": "code",
      "metadata": {
        "id": "AmcUalKD_4bz"
      },
      "source": [
        "#without giving format method u can just assign ur variables into place honders\n",
        "#begin a string with f or F before the opening quotation mark or \n",
        "#triple quotation mark. \n",
        "#Inside this string, you can write a Python expression between { and } characters that can refer to variables or literal values.\n",
        "print(f\" Sum of {x} and {y} : {x+y}\")\n",
        "\n",
        "#these are the ways to format ur outputs of strings"
      ],
      "execution_count": null,
      "outputs": []
    },
    {
      "cell_type": "code",
      "metadata": {
        "id": "SWUfQ097BwcD"
      },
      "source": [
        "txt1 = \"My name is {fname}, I'm {age}\".format(fname = \"John\", age = 36)\n",
        "txt2 = \"My name is {0}, I'm {1}\".format(\"John\",36)\n",
        "txt3 = \"My name is {}, I'm {}\".format(\"John\",36)"
      ],
      "execution_count": null,
      "outputs": []
    },
    {
      "cell_type": "code",
      "metadata": {
        "id": "WzgU2J5UB2Dv"
      },
      "source": [
        "name = 'Wasana'\n",
        "age = 28\n",
        "\n",
        "#My name is Wasana and I'm 28 "
      ],
      "execution_count": null,
      "outputs": []
    },
    {
      "cell_type": "code",
      "metadata": {
        "colab": {
          "base_uri": "https://localhost:8080/"
        },
        "id": "mPKhnJ_ACAAx",
        "outputId": "b492d9e4-c077-4b86-c085-cacceeb6760c"
      },
      "source": [
        "print(f\"My name is {name} and I'm {age}.\")"
      ],
      "execution_count": null,
      "outputs": [
        {
          "output_type": "stream",
          "name": "stdout",
          "text": [
            "My name is Wasana and I'm 28.\n"
          ]
        }
      ]
    },
    {
      "cell_type": "markdown",
      "metadata": {
        "id": "02AM3lpRrG1M"
      },
      "source": [
        "##List"
      ]
    },
    {
      "cell_type": "code",
      "metadata": {
        "id": "E8onssT-PP-Z"
      },
      "source": [
        "#Lists are used to store multiple items in a single variable\n",
        "#Lists are created using square brackets\n",
        "#Ordered, Changeable, allow duplicate values\n",
        "#Ordered - The items have a defined order, \n",
        "#and that order will not change, If u add new item to the list it will placed at the end\n",
        "\n",
        "#Changeable - we can change, add, and remove, \n",
        "#items in a list after it has been created\n",
        "\n",
        "#Duplicates - lists can have items with the same value"
      ],
      "execution_count": null,
      "outputs": []
    },
    {
      "cell_type": "code",
      "metadata": {
        "colab": {
          "base_uri": "https://localhost:8080/"
        },
        "id": "TUB67-e0rQVY",
        "outputId": "61778914-94f1-4621-b74f-27307689460a"
      },
      "source": [
        "# Creating a List \n",
        "List=[]\n",
        "print(\"blank list:\")\n",
        "print(List)"
      ],
      "execution_count": null,
      "outputs": [
        {
          "output_type": "stream",
          "name": "stdout",
          "text": [
            "blank list:\n",
            "[]\n"
          ]
        }
      ]
    },
    {
      "cell_type": "code",
      "metadata": {
        "colab": {
          "base_uri": "https://localhost:8080/"
        },
        "id": "hPwNXA0Zr4ZG",
        "outputId": "6e5ee06f-8265-43d4-91c1-bb78f466e009"
      },
      "source": [
        "# Creating a List of numbers \n",
        "List = [1,2,3,4,5]\n",
        "print(List)"
      ],
      "execution_count": null,
      "outputs": [
        {
          "output_type": "stream",
          "name": "stdout",
          "text": [
            "[1, 2, 3, 4, 5]\n"
          ]
        }
      ]
    },
    {
      "cell_type": "code",
      "metadata": {
        "id": "FvelSVg_r7c1"
      },
      "source": [
        "# Creating a List of strings\n",
        "x=[\"This\", \"is\", \"a\",\"List\"]\n",
        "   \n",
        "# Creating a Multi-Dimensional List \n",
        "# (By Nesting a list inside a List)\n",
        "y=[x,[\"inside\",\"a\",\"List\"]]"
      ],
      "execution_count": null,
      "outputs": []
    },
    {
      "cell_type": "code",
      "metadata": {
        "id": "TmMxiV-lsB86",
        "colab": {
          "base_uri": "https://localhost:8080/"
        },
        "outputId": "da5cfa61-42fb-443c-9372-77652315be1d"
      },
      "source": [
        "#checking type of the x\n",
        "type(y)"
      ],
      "execution_count": null,
      "outputs": [
        {
          "output_type": "execute_result",
          "data": {
            "text/plain": [
              "list"
            ]
          },
          "metadata": {},
          "execution_count": 62
        }
      ]
    },
    {
      "cell_type": "code",
      "metadata": {
        "id": "jQOL7DRXsICk",
        "colab": {
          "base_uri": "https://localhost:8080/"
        },
        "outputId": "74a377dd-7c3f-4dde-b4de-df067d58ca0c"
      },
      "source": [
        "#display whole element of the list \n",
        "print(x)\n",
        "print(y)"
      ],
      "execution_count": null,
      "outputs": [
        {
          "output_type": "stream",
          "name": "stdout",
          "text": [
            "['This', 'is', 'a', 'List']\n",
            "[['This', 'is', 'a', 'List'], ['inside', 'a', 'List']]\n"
          ]
        }
      ]
    },
    {
      "cell_type": "code",
      "metadata": {
        "id": "7-0hVa0LsLi9",
        "colab": {
          "base_uri": "https://localhost:8080/"
        },
        "outputId": "e7b721fd-c280-46b4-a591-03f0243ba21f"
      },
      "source": [
        "#get length of the list\n",
        "print(len(x))\n",
        "print(len(y))"
      ],
      "execution_count": null,
      "outputs": [
        {
          "output_type": "stream",
          "name": "stdout",
          "text": [
            "4\n",
            "2\n"
          ]
        }
      ]
    },
    {
      "cell_type": "code",
      "metadata": {
        "id": "ZL7GM8OnsOL7",
        "colab": {
          "base_uri": "https://localhost:8080/"
        },
        "outputId": "df8c5df4-4ef5-4192-e86e-779133fd27d9"
      },
      "source": [
        "#result is boolean \n",
        "\"is\" in x"
      ],
      "execution_count": null,
      "outputs": [
        {
          "output_type": "execute_result",
          "data": {
            "text/plain": [
              "True"
            ]
          },
          "metadata": {},
          "execution_count": 66
        }
      ]
    },
    {
      "cell_type": "code",
      "metadata": {
        "id": "o6_jaRhzsR03",
        "colab": {
          "base_uri": "https://localhost:8080/"
        },
        "outputId": "60d1cd85-28a1-4808-cf54-eaf9ff5ae20b"
      },
      "source": [
        "\"today\" in y"
      ],
      "execution_count": null,
      "outputs": [
        {
          "output_type": "execute_result",
          "data": {
            "text/plain": [
              "False"
            ]
          },
          "metadata": {},
          "execution_count": 67
        }
      ]
    },
    {
      "cell_type": "markdown",
      "metadata": {
        "id": "Cer7IhmuscvO"
      },
      "source": [
        "###Indexing"
      ]
    },
    {
      "cell_type": "code",
      "metadata": {
        "id": "otfb8gy-sUiL",
        "colab": {
          "base_uri": "https://localhost:8080/"
        },
        "outputId": "77e77b32-bfef-42d0-acc2-1ac8a9f4ba09"
      },
      "source": [
        "#first element of the list\n",
        "print(x[0])\n",
        "print(y[0][0])"
      ],
      "execution_count": null,
      "outputs": [
        {
          "output_type": "stream",
          "name": "stdout",
          "text": [
            "This\n",
            "This\n"
          ]
        }
      ]
    },
    {
      "cell_type": "code",
      "metadata": {
        "colab": {
          "base_uri": "https://localhost:8080/"
        },
        "id": "o8QnoFJ6frg4",
        "outputId": "5c6d9505-42c4-4e27-cc16-ba0958c83585"
      },
      "source": [
        "print(y[1][0])"
      ],
      "execution_count": null,
      "outputs": [
        {
          "output_type": "stream",
          "name": "stdout",
          "text": [
            "inside\n"
          ]
        }
      ]
    },
    {
      "cell_type": "code",
      "metadata": {
        "id": "SNJ0kejtshzc",
        "colab": {
          "base_uri": "https://localhost:8080/"
        },
        "outputId": "23ba0a39-f98e-480f-e2ea-b2a2ee562e72"
      },
      "source": [
        "print(x[2])"
      ],
      "execution_count": null,
      "outputs": [
        {
          "output_type": "stream",
          "name": "stdout",
          "text": [
            "a\n"
          ]
        }
      ]
    },
    {
      "cell_type": "code",
      "metadata": {
        "id": "iu-Gk8_Msqlo",
        "colab": {
          "base_uri": "https://localhost:8080/"
        },
        "outputId": "e6437050-d21e-4f24-c229-49472dadcb56"
      },
      "source": [
        "#last element of the list\n",
        "print(x[-1])"
      ],
      "execution_count": null,
      "outputs": [
        {
          "output_type": "stream",
          "name": "stdout",
          "text": [
            "List\n"
          ]
        }
      ]
    },
    {
      "cell_type": "code",
      "metadata": {
        "colab": {
          "base_uri": "https://localhost:8080/"
        },
        "id": "Z5g1EHQWf6WT",
        "outputId": "aeec7ace-84be-4a7b-dd13-f1bc22638929"
      },
      "source": [
        "print(y[1][-1])\n",
        "print(y[1][2])"
      ],
      "execution_count": null,
      "outputs": [
        {
          "output_type": "stream",
          "name": "stdout",
          "text": [
            "List\n",
            "List\n"
          ]
        }
      ]
    },
    {
      "cell_type": "code",
      "metadata": {
        "colab": {
          "base_uri": "https://localhost:8080/"
        },
        "id": "5hy0PA9MgMXd",
        "outputId": "26862c6a-2f55-48a9-e93f-b777ea1c77c3"
      },
      "source": [
        "print(y[0][0:2])"
      ],
      "execution_count": null,
      "outputs": [
        {
          "output_type": "stream",
          "name": "stdout",
          "text": [
            "['This', 'is']\n"
          ]
        }
      ]
    },
    {
      "cell_type": "markdown",
      "metadata": {
        "id": "0cfSyiTtsz0W"
      },
      "source": [
        "### Modify the content of the list"
      ]
    },
    {
      "cell_type": "code",
      "metadata": {
        "id": "_Fw_HAXPsxcC"
      },
      "source": [
        "fruits = [\"Pineapple\",\"Banana\",\"Apple\",\"Melon\"]"
      ],
      "execution_count": null,
      "outputs": []
    },
    {
      "cell_type": "code",
      "metadata": {
        "colab": {
          "base_uri": "https://localhost:8080/",
          "height": 35
        },
        "id": "OMbzBHehd6DY",
        "outputId": "522f88f7-cfea-4d57-b4c1-562e3a8c2f51"
      },
      "source": [
        "fruits[-1]"
      ],
      "execution_count": null,
      "outputs": [
        {
          "output_type": "execute_result",
          "data": {
            "application/vnd.google.colaboratory.intrinsic+json": {
              "type": "string"
            },
            "text/plain": [
              "'Melon'"
            ]
          },
          "metadata": {},
          "execution_count": 82
        }
      ]
    },
    {
      "cell_type": "code",
      "metadata": {
        "id": "g3zt9OfjtA4N",
        "colab": {
          "base_uri": "https://localhost:8080/"
        },
        "outputId": "681bbaf7-8c26-4739-f510-a8c643299549"
      },
      "source": [
        "print(fruits)"
      ],
      "execution_count": null,
      "outputs": [
        {
          "output_type": "stream",
          "name": "stdout",
          "text": [
            "['Pineapple', 'Banana', 'Apple', 'Melon']\n"
          ]
        }
      ]
    },
    {
      "cell_type": "code",
      "metadata": {
        "id": "itQB6iGDtDaE",
        "colab": {
          "base_uri": "https://localhost:8080/"
        },
        "outputId": "ad4eca4f-913e-472f-98c9-7439e84d50c8"
      },
      "source": [
        "#Or you can loop through the list items by using for loop\n",
        "#Print all the items in the list one by one\n",
        "for fruit in fruits:\n",
        "    print(fruit)"
      ],
      "execution_count": null,
      "outputs": [
        {
          "output_type": "stream",
          "name": "stdout",
          "text": [
            "Pineapple\n",
            "Banana\n",
            "Apple\n",
            "Melon\n"
          ]
        }
      ]
    },
    {
      "cell_type": "code",
      "metadata": {
        "id": "ladTbeYutGA3",
        "colab": {
          "base_uri": "https://localhost:8080/"
        },
        "outputId": "ade4f67d-6393-4424-a675-128cc7851807"
      },
      "source": [
        "#append\n",
        "# Addition of Elements \n",
        "fruits.append(\"Orange\")\n",
        "print(fruits)"
      ],
      "execution_count": null,
      "outputs": [
        {
          "output_type": "stream",
          "name": "stdout",
          "text": [
            "['Pineapple', 'Banana', 'Apple', 'Melon', 'Orange']\n"
          ]
        }
      ]
    },
    {
      "cell_type": "code",
      "metadata": {
        "id": "t2aP6ql8tPwX",
        "colab": {
          "base_uri": "https://localhost:8080/"
        },
        "outputId": "bd72ce30-8bb2-4870-b2c0-2230cdb86536"
      },
      "source": [
        "# Addition of Element at  \n",
        "# specific Position\n",
        "fruits.insert(0,\"Papaya\")\n",
        "print(fruits)"
      ],
      "execution_count": null,
      "outputs": [
        {
          "output_type": "stream",
          "name": "stdout",
          "text": [
            "['Papaya', 'Pineapple', 'Banana', 'Apple', 'Melon', 'Orange']\n"
          ]
        }
      ]
    },
    {
      "cell_type": "code",
      "metadata": {
        "id": "GsLOL4TutVKa",
        "colab": {
          "base_uri": "https://localhost:8080/"
        },
        "outputId": "650f5b5b-e753-4849-bcd3-6bb6f5f5c4af"
      },
      "source": [
        "#remove\n",
        "fruits.remove(\"Melon\")\n",
        "print(fruits)"
      ],
      "execution_count": null,
      "outputs": [
        {
          "output_type": "stream",
          "name": "stdout",
          "text": [
            "['Papaya', 'Pineapple', 'Banana', 'Apple', 'Orange']\n"
          ]
        }
      ]
    },
    {
      "cell_type": "code",
      "metadata": {
        "id": "DgFCQlzdtb68",
        "colab": {
          "base_uri": "https://localhost:8080/"
        },
        "outputId": "b2bce69c-fe6f-4d47-85da-65d3b80e29b1"
      },
      "source": [
        "#Pop method removes the specified index\n",
        "fruits.pop(2)\n",
        "print(fruits)\n",
        "\n",
        "#if you do not specify the index, the pop() method removes the last item"
      ],
      "execution_count": null,
      "outputs": [
        {
          "output_type": "stream",
          "name": "stdout",
          "text": [
            "['Papaya', 'Pineapple', 'Apple', 'Orange']\n"
          ]
        }
      ]
    },
    {
      "cell_type": "code",
      "metadata": {
        "id": "7ui4LrAatek5",
        "colab": {
          "base_uri": "https://localhost:8080/"
        },
        "outputId": "41cde637-f026-4022-c421-e683f4427c39"
      },
      "source": [
        "#Replace the name of the fruit with another one\n",
        "fruits[1]=\"Strawberry\"\n",
        "print(fruits)"
      ],
      "execution_count": null,
      "outputs": [
        {
          "output_type": "stream",
          "name": "stdout",
          "text": [
            "['Papaya', 'Strawberry', 'Apple', 'Orange']\n"
          ]
        }
      ]
    },
    {
      "cell_type": "markdown",
      "metadata": {
        "id": "Nxip8T2SrNLR"
      },
      "source": [
        "## Tupples"
      ]
    },
    {
      "cell_type": "code",
      "metadata": {
        "id": "-Si5FOGlrKoz"
      },
      "source": [
        "#Tuple is one of 4 built-in data types in Python used to store collections of data\n",
        "#Tuple is a collection which is ordered and unchangeable, allow duplicate values\n",
        "#Tuples are written with round brackets\n",
        "\n",
        "#Ordered, UnChangeable, allow duplicate values\n",
        "#Ordered - The items have a defined order, and that order will not change, If u add new item to the list it will placed at the end\n",
        "#UnChangeable - we can't change, add, and remove, items in a list after it has been created\n",
        "#Duplicates - lists can have items with the same value"
      ],
      "execution_count": null,
      "outputs": []
    },
    {
      "cell_type": "code",
      "metadata": {
        "colab": {
          "base_uri": "https://localhost:8080/"
        },
        "id": "S-naO6dqTJ7k",
        "outputId": "c58a3b8c-ed46-4acb-863c-e63df42a8262"
      },
      "source": [
        "fullname = ('Wasana','Perera')\n",
        "languages = ('Python','R')\n",
        "print(fullname)\n",
        "print(languages)"
      ],
      "execution_count": null,
      "outputs": [
        {
          "output_type": "stream",
          "name": "stdout",
          "text": [
            "('Wasana', 'Perera')\n",
            "('Python', 'R')\n"
          ]
        }
      ]
    },
    {
      "cell_type": "code",
      "metadata": {
        "colab": {
          "base_uri": "https://localhost:8080/"
        },
        "id": "f2GB0cFUTbP0",
        "outputId": "f2f28d39-60ff-4a29-bc0e-8036db88c6bb"
      },
      "source": [
        "#We can't change the existing tuples, But we can add tuples and create new tuples\n",
        "fullname+languages+(1,2,3,4,5)"
      ],
      "execution_count": null,
      "outputs": [
        {
          "output_type": "execute_result",
          "data": {
            "text/plain": [
              "('Wasana', 'Perera', 'Python', 'R', 1, 2, 3, 4, 5)"
            ]
          },
          "metadata": {},
          "execution_count": 90
        }
      ]
    },
    {
      "cell_type": "code",
      "metadata": {
        "id": "ijII3PtXTehQ"
      },
      "source": [
        "#//gives the whole number---/ gives the floats\n",
        "def Convert_seconds(seconds):\n",
        "    hours = seconds // 3600\n",
        "    minutes = (seconds - hours*3600) //60\n",
        "    remaining_seconds = seconds - hours*3600-minutes*60\n",
        "    return hours,minutes,remaining_seconds"
      ],
      "execution_count": null,
      "outputs": []
    },
    {
      "cell_type": "code",
      "metadata": {
        "id": "pQG184T_Tow_"
      },
      "source": [
        "results = Convert_seconds(5000)"
      ],
      "execution_count": null,
      "outputs": []
    },
    {
      "cell_type": "code",
      "metadata": {
        "colab": {
          "base_uri": "https://localhost:8080/"
        },
        "id": "CiLKMaawTrqI",
        "outputId": "efa56492-6e00-4a7d-f557-dfb04c457c56"
      },
      "source": [
        "print(results)"
      ],
      "execution_count": null,
      "outputs": [
        {
          "output_type": "stream",
          "name": "stdout",
          "text": [
            "(1, 23, 20)\n"
          ]
        }
      ]
    },
    {
      "cell_type": "code",
      "metadata": {
        "id": "QHjGeMBDTt4n"
      },
      "source": [
        "hours,minutes,remaining_sec = Convert_seconds(5000)"
      ],
      "execution_count": null,
      "outputs": []
    },
    {
      "cell_type": "code",
      "metadata": {
        "colab": {
          "base_uri": "https://localhost:8080/"
        },
        "id": "tgP4LauHTwVE",
        "outputId": "00a6eb19-007d-432e-bca4-813c755a23ba"
      },
      "source": [
        "print(hours)\n",
        "print(minutes)\n",
        "print(remaining_sec)"
      ],
      "execution_count": null,
      "outputs": [
        {
          "output_type": "stream",
          "name": "stdout",
          "text": [
            "1\n",
            "23\n",
            "20\n"
          ]
        }
      ]
    },
    {
      "cell_type": "code",
      "metadata": {
        "colab": {
          "base_uri": "https://localhost:8080/"
        },
        "id": "9o8dTvW0Ty8h",
        "outputId": "a79c795b-01b9-42dd-d30f-c1d51dd5b733"
      },
      "source": [
        "type(results)"
      ],
      "execution_count": null,
      "outputs": [
        {
          "output_type": "execute_result",
          "data": {
            "text/plain": [
              "tuple"
            ]
          },
          "metadata": {},
          "execution_count": 96
        }
      ]
    },
    {
      "cell_type": "code",
      "metadata": {
        "colab": {
          "base_uri": "https://localhost:8080/"
        },
        "id": "sNeKeqfGT1PI",
        "outputId": "77830b59-4c6f-4ec8-c134-90c10c041920"
      },
      "source": [
        "#lmarks = [34, 45, 65, 78]\n",
        "tmarks = (34, 45, 65, 78)\n",
        "\n",
        "\n",
        "#print(lmarks)\n",
        "print(tmarks)\n",
        "print(tmarks[0])\n",
        "print(tmarks[:2])\n",
        "\n",
        "#tmarks[2] = 89"
      ],
      "execution_count": null,
      "outputs": [
        {
          "output_type": "stream",
          "name": "stdout",
          "text": [
            "(34, 45, 65, 78)\n",
            "34\n",
            "(34, 45)\n"
          ]
        }
      ]
    },
    {
      "cell_type": "code",
      "metadata": {
        "colab": {
          "base_uri": "https://localhost:8080/"
        },
        "id": "-QFGLf-XT8G1",
        "outputId": "c1d09c58-50db-46fd-8bc0-a00b88c8381f"
      },
      "source": [
        "#Get details of functions\n",
        "dir(tuple)"
      ],
      "execution_count": null,
      "outputs": [
        {
          "output_type": "execute_result",
          "data": {
            "text/plain": [
              "['__add__',\n",
              " '__class__',\n",
              " '__contains__',\n",
              " '__delattr__',\n",
              " '__dir__',\n",
              " '__doc__',\n",
              " '__eq__',\n",
              " '__format__',\n",
              " '__ge__',\n",
              " '__getattribute__',\n",
              " '__getitem__',\n",
              " '__getnewargs__',\n",
              " '__gt__',\n",
              " '__hash__',\n",
              " '__init__',\n",
              " '__init_subclass__',\n",
              " '__iter__',\n",
              " '__le__',\n",
              " '__len__',\n",
              " '__lt__',\n",
              " '__mul__',\n",
              " '__ne__',\n",
              " '__new__',\n",
              " '__reduce__',\n",
              " '__reduce_ex__',\n",
              " '__repr__',\n",
              " '__rmul__',\n",
              " '__setattr__',\n",
              " '__sizeof__',\n",
              " '__str__',\n",
              " '__subclasshook__',\n",
              " 'count',\n",
              " 'index']"
            ]
          },
          "metadata": {},
          "execution_count": 114
        }
      ]
    },
    {
      "cell_type": "code",
      "metadata": {
        "colab": {
          "base_uri": "https://localhost:8080/"
        },
        "id": "HsBkdux1T-pw",
        "outputId": "d74a72b5-3f7c-4af8-a17f-33c375e7ccd9"
      },
      "source": [
        "a = 5\n",
        "b = 8\n",
        "\n",
        "a, b = b, a\n",
        "print(a)\n",
        "print(b)"
      ],
      "execution_count": null,
      "outputs": [
        {
          "output_type": "stream",
          "name": "stdout",
          "text": [
            "8\n",
            "5\n"
          ]
        }
      ]
    },
    {
      "cell_type": "code",
      "metadata": {
        "colab": {
          "base_uri": "https://localhost:8080/"
        },
        "id": "4icEhTMaUBya",
        "outputId": "f8884943-d6b0-4523-d6da-113073d5d965"
      },
      "source": [
        "lmarks + [1,2,3]"
      ],
      "execution_count": null,
      "outputs": [
        {
          "output_type": "execute_result",
          "data": {
            "text/plain": [
              "[34, 45, 65, 78, 1, 2, 3]"
            ]
          },
          "metadata": {},
          "execution_count": 85
        }
      ]
    }
  ]
}